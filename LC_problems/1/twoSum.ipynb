{
 "cells": [
  {
   "cell_type": "markdown",
   "metadata": {},
   "source": [
    "1. Bruteforce (n*n)\n",
    "2. Hashmap (n)"
   ]
  },
  {
   "cell_type": "markdown",
   "metadata": {},
   "source": []
  },
  {
   "cell_type": "code",
   "execution_count": null,
   "metadata": {},
   "outputs": [],
   "source": [
    "import time"
   ]
  },
  {
   "cell_type": "code",
   "execution_count": null,
   "metadata": {},
   "outputs": [],
   "source": [
    "class TwoSum:\n",
    "    def __init__(self, method=\"bruteforce\") -> None:\n",
    "        self.method = method\n",
    "\n",
    "    def twoSum(self, nums, target):\n",
    "        if self.method == \"hashmap\":\n",
    "            myDict = {}\n",
    "            for i, j in enumerate(nums):\n",
    "                if target - j in myDict:\n",
    "                    return [myDict[target-j], i]\n",
    "                myDict[j] = i\n",
    "        else:\n",
    "            l = len(nums)\n",
    "            for i in range(l):\n",
    "                for j in range(l):\n",
    "                    if nums[i] + nums[j] == target:\n",
    "                        if i != j:\n",
    "                            return [i, j]\n",
    "        "
   ]
  },
  {
   "cell_type": "code",
   "execution_count": null,
   "metadata": {},
   "outputs": [],
   "source": [
    "nums = [2,7,11,15]\n",
    "target = 9\n",
    "\n",
    "obj = TwoSum()\n",
    "k = time.time()\n",
    "print(obj.twoSum(nums, target))\n",
    "m = time.time()\n",
    "print(m-k)\n",
    "\n",
    "obj = TwoSum(\"hashmap\")\n",
    "k = time.time()\n",
    "print(obj.twoSum(nums, target))\n",
    "m = time.time()\n",
    "print(m-k)\n"
   ]
  },
  {
   "cell_type": "code",
   "execution_count": null,
   "metadata": {},
   "outputs": [],
   "source": [
    "nums = [3,2,4]\n",
    "target = 6\n",
    "\n",
    "obj = TwoSum()\n",
    "k = time.time()\n",
    "print(obj.twoSum(nums, target))\n",
    "m = time.time()\n",
    "print(m-k)\n",
    "\n",
    "obj = TwoSum(\"hashmap\")\n",
    "k = time.time()\n",
    "print(obj.twoSum(nums, target))\n",
    "m = time.time()\n",
    "print(m-k)"
   ]
  },
  {
   "cell_type": "code",
   "execution_count": null,
   "metadata": {},
   "outputs": [],
   "source": [
    "nums = [3,3]\n",
    "target = 6\n",
    "\n",
    "obj = TwoSum()\n",
    "k = time.time()\n",
    "print(obj.twoSum(nums, target))\n",
    "m = time.time()\n",
    "print(m-k)\n",
    "\n",
    "obj = TwoSum(\"hashmap\")\n",
    "k = time.time()\n",
    "print(obj.twoSum(nums, target))\n",
    "m = time.time()\n",
    "print(m-k)"
   ]
  },
  {
   "cell_type": "code",
   "execution_count": null,
   "metadata": {},
   "outputs": [],
   "source": [
    "nums = [3,1,2,3,4,5,6,9,98,3]\n",
    "target = 102\n",
    "\n",
    "obj = TwoSum()\n",
    "k = time.time()\n",
    "print(obj.twoSum(nums, target))\n",
    "m = time.time()\n",
    "print(m-k)\n",
    "\n",
    "obj = TwoSum(\"hashmap\")\n",
    "k = time.time()\n",
    "print(obj.twoSum(nums, target))\n",
    "m = time.time()\n",
    "print(m-k)"
   ]
  },
  {
   "cell_type": "code",
   "execution_count": 9,
   "metadata": {},
   "outputs": [
    {
     "name": "stdout",
     "output_type": "stream",
     "text": [
      "(0, 2)\n"
     ]
    }
   ],
   "source": [
    "# Date: 08/05/2023\n",
    "# Approach 1 : BF\n",
    "# def twoSum(nums, target):\n",
    "#     for i in range(len(nums)):\n",
    "#         for j in range(len(nums)):\n",
    "#             if nums[i] + nums[j] == target and i!=j:\n",
    "#                 return i, j\n",
    "\n",
    "# Approach 2: Hashmap save indices as keys\n",
    "def twoSum(nums, target):\n",
    "    d = {}\n",
    "    for index, value in enumerate(nums):\n",
    "        if target-value in d.keys():\n",
    "            return d[target-value], index\n",
    "        d[value] = index\n",
    "\n",
    "        \n",
    "if __name__ == \"__main__\":\n",
    "    print(twoSum(nums = [2,7,11,15], target = 13))"
   ]
  },
  {
   "cell_type": "code",
   "execution_count": null,
   "metadata": {},
   "outputs": [],
   "source": []
  }
 ],
 "metadata": {
  "kernelspec": {
   "display_name": "Python 3.6.9 64-bit",
   "language": "python",
   "name": "python3"
  },
  "language_info": {
   "codemirror_mode": {
    "name": "ipython",
    "version": 3
   },
   "file_extension": ".py",
   "mimetype": "text/x-python",
   "name": "python",
   "nbconvert_exporter": "python",
   "pygments_lexer": "ipython3",
   "version": "3.10.11"
  },
  "orig_nbformat": 4,
  "vscode": {
   "interpreter": {
    "hash": "31f2aee4e71d21fbe5cf8b01ff0e069b9275f58929596ceb00d14d90e3e16cd6"
   }
  }
 },
 "nbformat": 4,
 "nbformat_minor": 2
}
