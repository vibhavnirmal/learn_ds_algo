{
 "cells": [
  {
   "cell_type": "markdown",
   "metadata": {},
   "source": [
    "1. Bruteforce (n*n)\n",
    "2. Hashmap (n)"
   ]
  },
  {
   "cell_type": "markdown",
   "metadata": {},
   "source": []
  },
  {
   "cell_type": "code",
   "execution_count": 1,
   "metadata": {},
   "outputs": [],
   "source": [
    "import time"
   ]
  },
  {
   "cell_type": "code",
   "execution_count": 2,
   "metadata": {},
   "outputs": [],
   "source": [
    "class TwoSum:\n",
    "    def __init__(self, method=\"bruteforce\") -> None:\n",
    "        self.method = method\n",
    "\n",
    "    def twoSum(self, nums, target):\n",
    "        if self.method == \"hashmap\":\n",
    "            myDict = {}\n",
    "            for i, j in enumerate(nums):\n",
    "                if target - j in myDict:\n",
    "                    return [myDict[target-j], i]\n",
    "                myDict[j] = i\n",
    "        else:\n",
    "            l = len(nums)\n",
    "            for i in range(l):\n",
    "                for j in range(l):\n",
    "                    if nums[i] + nums[j] == target:\n",
    "                        if i != j:\n",
    "                            return [i, j]\n",
    "        "
   ]
  },
  {
   "cell_type": "code",
   "execution_count": 3,
   "metadata": {},
   "outputs": [
    {
     "name": "stdout",
     "output_type": "stream",
     "text": [
      "[0, 1]\n",
      "0.0023534297943115234\n",
      "[0, 1]\n",
      "0.0001742839813232422\n"
     ]
    }
   ],
   "source": [
    "nums = [2,7,11,15]\n",
    "target = 9\n",
    "\n",
    "obj = TwoSum()\n",
    "k = time.time()\n",
    "print(obj.twoSum(nums, target))\n",
    "m = time.time()\n",
    "print(m-k)\n",
    "\n",
    "obj = TwoSum(\"hashmap\")\n",
    "k = time.time()\n",
    "print(obj.twoSum(nums, target))\n",
    "m = time.time()\n",
    "print(m-k)\n"
   ]
  },
  {
   "cell_type": "code",
   "execution_count": 4,
   "metadata": {},
   "outputs": [
    {
     "name": "stdout",
     "output_type": "stream",
     "text": [
      "[1, 2]\n",
      "0.0008184909820556641\n",
      "[1, 2]\n",
      "0.006096363067626953\n"
     ]
    }
   ],
   "source": [
    "nums = [3,2,4]\n",
    "target = 6\n",
    "\n",
    "obj = TwoSum()\n",
    "k = time.time()\n",
    "print(obj.twoSum(nums, target))\n",
    "m = time.time()\n",
    "print(m-k)\n",
    "\n",
    "obj = TwoSum(\"hashmap\")\n",
    "k = time.time()\n",
    "print(obj.twoSum(nums, target))\n",
    "m = time.time()\n",
    "print(m-k)"
   ]
  },
  {
   "cell_type": "code",
   "execution_count": 5,
   "metadata": {},
   "outputs": [
    {
     "name": "stdout",
     "output_type": "stream",
     "text": [
      "[0, 1]\n",
      "0.0002589225769042969\n",
      "[0, 1]\n",
      "0.00011849403381347656\n"
     ]
    }
   ],
   "source": [
    "nums = [3,3]\n",
    "target = 6\n",
    "\n",
    "obj = TwoSum()\n",
    "k = time.time()\n",
    "print(obj.twoSum(nums, target))\n",
    "m = time.time()\n",
    "print(m-k)\n",
    "\n",
    "obj = TwoSum(\"hashmap\")\n",
    "k = time.time()\n",
    "print(obj.twoSum(nums, target))\n",
    "m = time.time()\n",
    "print(m-k)"
   ]
  },
  {
   "cell_type": "code",
   "execution_count": 6,
   "metadata": {},
   "outputs": [
    {
     "name": "stdout",
     "output_type": "stream",
     "text": [
      "[4, 8]\n",
      "0.0003859996795654297\n",
      "[4, 8]\n",
      "9.799003601074219e-05\n"
     ]
    }
   ],
   "source": [
    "nums = [3,1,2,3,4,5,6,9,98,3]\n",
    "target = 102\n",
    "\n",
    "obj = TwoSum()\n",
    "k = time.time()\n",
    "print(obj.twoSum(nums, target))\n",
    "m = time.time()\n",
    "print(m-k)\n",
    "\n",
    "obj = TwoSum(\"hashmap\")\n",
    "k = time.time()\n",
    "print(obj.twoSum(nums, target))\n",
    "m = time.time()\n",
    "print(m-k)"
   ]
  },
  {
   "cell_type": "code",
   "execution_count": null,
   "metadata": {},
   "outputs": [],
   "source": []
  }
 ],
 "metadata": {
  "kernelspec": {
   "display_name": "Python 3.6.9 64-bit",
   "language": "python",
   "name": "python3"
  },
  "language_info": {
   "codemirror_mode": {
    "name": "ipython",
    "version": 3
   },
   "file_extension": ".py",
   "mimetype": "text/x-python",
   "name": "python",
   "nbconvert_exporter": "python",
   "pygments_lexer": "ipython3",
   "version": "3.6.9"
  },
  "orig_nbformat": 4,
  "vscode": {
   "interpreter": {
    "hash": "31f2aee4e71d21fbe5cf8b01ff0e069b9275f58929596ceb00d14d90e3e16cd6"
   }
  }
 },
 "nbformat": 4,
 "nbformat_minor": 2
}
